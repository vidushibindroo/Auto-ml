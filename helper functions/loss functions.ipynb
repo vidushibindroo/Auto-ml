{
 "cells": [
  {
   "cell_type": "code",
   "execution_count": 7,
   "metadata": {},
   "outputs": [],
   "source": [
    "#loss functions \n",
    "#Regression Loss Functions\n",
    "from scipy.special import xlogy\n",
    "import numpy as np\n"
   ]
  },
  {
   "cell_type": "code",
   "execution_count": 8,
   "metadata": {},
   "outputs": [],
   "source": [
    "def squared_loss(y_true, y_pred):\n",
    "    differences = y_true - y_pred\n",
    "    differences_squared = differences ** 2\n",
    "    mean_of_differences_squared = differences_squared.mean()\n",
    "    rmse_val = np.sqrt(mean_of_differences_squared)\n",
    "    return rmse_val"
   ]
  },
  {
   "cell_type": "code",
   "execution_count": 9,
   "metadata": {},
   "outputs": [],
   "source": [
    "#Mean Absolute Error/L1 Loss\n",
    "def mae(y_true, y_pred):\n",
    "    differences = y_true - y_pred\n",
    "    absolute_differences = np.absolute(differences)\n",
    "    mean_absolute_differences = absolute_differences.mean()\n",
    "    return mean_absolute_differences"
   ]
  },
  {
   "cell_type": "code",
   "execution_count": 10,
   "metadata": {},
   "outputs": [],
   "source": [
    "def cross_entropy(predictions, targets, epsilon=1e-10):\n",
    "    predictions = np.clip(predictions, epsilon, 1. - epsilon)\n",
    "    N = predictions.shape[0]\n",
    "    ce_loss = -np.sum(np.sum(targets * np.log(predictions + 1e-5)))/N\n",
    "    return ce_loss"
   ]
  },
  {
   "cell_type": "code",
   "execution_count": 11,
   "metadata": {},
   "outputs": [],
   "source": [
    "\n",
    "def binary_log_loss(y_true, y_prob):\n",
    "    \"\"\"Compute binary logistic loss for classification.\n",
    "    This is identical to log_loss in binary classification case,\n",
    "    but is kept for its use in multilabel case.\n",
    "    Parameters\n",
    "    ----------\n",
    "    y_true : array-like or label indicator matrix\n",
    "        Ground truth (correct) labels.\n",
    "    y_prob : array-like of float, shape = (n_samples, 1)\n",
    "        Predicted probabilities, as returned by a classifier's\n",
    "        predict_proba method.\n",
    "    Returns\n",
    "    -------\n",
    "    loss : float\n",
    "        The degree to which the samples are correctly predicted.\n",
    "    \"\"\"\n",
    "    eps = np.finfo(y_prob.dtype).eps\n",
    "    y_prob = np.clip(y_prob, eps, 1 - eps)\n",
    "    return -(xlogy(y_true, y_prob) +\n",
    "             xlogy(1 - y_true, 1 - y_prob)).sum() / y_prob.shape[0]\n"
   ]
  },
  {
   "cell_type": "code",
   "execution_count": 12,
   "metadata": {},
   "outputs": [],
   "source": [
    "def log_loss(y_true, y_prob):\n",
    "    \"\"\"Compute Logistic loss for classification.\n",
    "    Parameters\n",
    "    ----------\n",
    "    y_true : array-like or label indicator matrix\n",
    "        Ground truth (correct) labels.\n",
    "    y_prob : array-like of float, shape = (n_samples, n_classes)\n",
    "        Predicted probabilities, as returned by a classifier's\n",
    "        predict_proba method.\n",
    "    Returns\n",
    "    -------\n",
    "    loss : float\n",
    "        The degree to which the samples are correctly predicted.\n",
    "    \"\"\"\n",
    "    eps = np.finfo(y_prob.dtype).eps\n",
    "    y_prob = np.clip(y_prob, eps, 1 - eps)\n",
    "    if y_prob.shape[1] == 1:\n",
    "        y_prob = np.append(1 - y_prob, y_prob, axis=1)\n",
    "\n",
    "    if y_true.shape[1] == 1:\n",
    "        y_true = np.append(1 - y_true, y_true, axis=1)\n",
    "\n",
    "    return - xlogy(y_true, y_prob).sum() / y_prob.shape[0]\n"
   ]
  },
  {
   "cell_type": "code",
   "execution_count": 13,
   "metadata": {},
   "outputs": [],
   "source": [
    "LOSS_FUNCTIONS = {'squared_loss': squared_loss, 'log_loss': log_loss,\n",
    "                  'binary_log_loss': binary_log_loss,'mae':mae,'cross_entropy':cross_entropy}"
   ]
  },
  {
   "cell_type": "code",
   "execution_count": null,
   "metadata": {},
   "outputs": [],
   "source": []
  }
 ],
 "metadata": {
  "kernelspec": {
   "display_name": "Python 3",
   "language": "python",
   "name": "python3"
  },
  "language_info": {
   "codemirror_mode": {
    "name": "ipython",
    "version": 3
   },
   "file_extension": ".py",
   "mimetype": "text/x-python",
   "name": "python",
   "nbconvert_exporter": "python",
   "pygments_lexer": "ipython3",
   "version": "3.7.1"
  }
 },
 "nbformat": 4,
 "nbformat_minor": 2
}
