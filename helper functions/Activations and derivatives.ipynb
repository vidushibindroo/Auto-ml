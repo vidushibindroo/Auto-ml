{
 "cells": [
  {
   "cell_type": "code",
   "execution_count": 2,
   "metadata": {},
   "outputs": [],
   "source": [
    "import numpy as np\n",
    "from math import e,sqrt,sin,cos"
   ]
  },
  {
   "cell_type": "code",
   "execution_count": 3,
   "metadata": {},
   "outputs": [],
   "source": [
    "# Identity function: \n",
    "def identity(x):\n",
    "    return x\n",
    "# Identity function derivative:\n",
    "def identity_deriv(x):\n",
    "    return 1"
   ]
  },
  {
   "cell_type": "code",
   "execution_count": 4,
   "metadata": {},
   "outputs": [],
   "source": [
    "# Binary step function:\n",
    "def step(x):\n",
    "    return 0 if x < 0 else 1"
   ]
  },
  {
   "cell_type": "code",
   "execution_count": 5,
   "metadata": {},
   "outputs": [],
   "source": [
    "# Sigmoid/logistic functions with Numpy:\n",
    "def logistic(x):\n",
    "    return 1/(1 + np.exp(-x))\n",
    "\n",
    "# Sigmoid/logistic function derivative:\n",
    "def logistic_deriv(x):\n",
    "    return logistic(x)*(1-logistic(x))"
   ]
  },
  {
   "cell_type": "code",
   "execution_count": 6,
   "metadata": {},
   "outputs": [],
   "source": [
    "# Tanh/Hyperbolic Tangent Activation Function:\n",
    "def tanh(x):\n",
    "    return np.tanh(x)\n",
    "\n",
    "# Tahn function derivative:\n",
    "def tanh_deriv(x):\n",
    "    return 1.0 - np.tanh(x)**2\n",
    "  \n",
    "# ArcTan function:\n",
    "def arctan(x):\n",
    "    return np.arctan(x)\n",
    "\n",
    "# ArcTan function derivative:\n",
    "def arctan_deriv(x):\n",
    "    return 1/((x**2)+1)"
   ]
  },
  {
   "cell_type": "code",
   "execution_count": 7,
   "metadata": {},
   "outputs": [],
   "source": [
    "# Softsign function:\n",
    "def softsign(x):\n",
    "    x = abs(x)\n",
    "    return x/(1+x)\n",
    "\n",
    "# Softsign function derivative:\n",
    "def softsign_deriv(x):\n",
    "    x = abs(x)\n",
    "    return 1/((1+x))**2"
   ]
  },
  {
   "cell_type": "code",
   "execution_count": 8,
   "metadata": {},
   "outputs": [],
   "source": [
    "# Inverse square root unit (ISRU):\n",
    "def isru(x, a=0.01):\n",
    "    return x/sqrt(x+(a*(x**2)))\n",
    "\n",
    "# ISRU derivative:\n",
    "def isru_deriv(x, a=0.01):\n",
    "    return (x/sqrt(1+(a*(x**2))))**3"
   ]
  },
  {
   "cell_type": "code",
   "execution_count": 9,
   "metadata": {},
   "outputs": [],
   "source": [
    "# Inverse square root LINEAR unit (ISRLU):\n",
    "def isrlu(x,a=0.01):\n",
    "    return x/sqrt(1+(a*(x**2))) if x < 0 else x\n",
    "\n",
    "# ISRLU derivative:\n",
    "def isrlu_deriv(x,a=0.01):\n",
    "    return (1/sqrt(1+(a*(x**2))))**3 if x < 0 else 1"
   ]
  },
  {
   "cell_type": "code",
   "execution_count": 10,
   "metadata": {},
   "outputs": [],
   "source": [
    "# Square Nonlinearity (SQNL):\n",
    "def sqnl(x):\n",
    "    if x < (-2.0): \n",
    "        return -1\n",
    "    elif x < 0.0:\n",
    "        return x+((x**2.0)/4.0)\n",
    "    elif x <= 2.0:\n",
    "        return x-((x**2)/4.0)\n",
    "    elif x > 2.0:\n",
    "        return 1\n",
    "\n",
    "# SQNL derivative:\n",
    "def sqnl_deriv(x):\n",
    "  # Note: This function returns two values.\n",
    "  return (1-(x/2), 1+(x/2))"
   ]
  },
  {
   "cell_type": "code",
   "execution_count": 11,
   "metadata": {},
   "outputs": [],
   "source": [
    "# ReLu (Rectified Linear Unit) function:\n",
    "def relu(x):\n",
    "    return 0 if x < 0.0 else x\n",
    "  \n",
    "# ReLU derivative:\n",
    "def relu_deriv(x):\n",
    "    return 0 if x < 0.0 else 1"
   ]
  },
  {
   "cell_type": "code",
   "execution_count": 12,
   "metadata": {},
   "outputs": [],
   "source": [
    "# Leaky ReLU:\n",
    "def leaky(x):\n",
    "    return x*0.01 if x < 0 else x\n",
    "      \n",
    "# Leaky ReLU derivative:\n",
    "def leaky_deriv(x):\n",
    "    return 0.01 if x < 0 else 1"
   ]
  },
  {
   "cell_type": "code",
   "execution_count": 13,
   "metadata": {},
   "outputs": [],
   "source": [
    "# Parametric rectified linear unit (PReLU):\n",
    "def prelu(x,a=0.01):\n",
    "    return x*a if x < 0 else x  \n",
    "  \n",
    "# PReLU derivative:\n",
    "def prelu_deriv(x,a=0.01): \n",
    "    return a if x < 0 else 1"
   ]
  },
  {
   "cell_type": "code",
   "execution_count": 14,
   "metadata": {},
   "outputs": [],
   "source": [
    "# Exponential linear unit (ELU):\n",
    "def elu(x,a=0.01):\n",
    "    return a*(((e)**2)-1) if x <= 0 else x\n",
    "  \n",
    "# ELU derivative:\n",
    "def elu_deriv(x,a=0.01):\n",
    "    return elu(x,a)+a if x <= 0 else 1"
   ]
  },
  {
   "cell_type": "code",
   "execution_count": 15,
   "metadata": {},
   "outputs": [],
   "source": [
    "# SoftPlus\n",
    "def softplus(x):\n",
    "    return np.log(1+((e)**x))\n",
    "\n",
    "# SoftPlus derivative: \n",
    "def softplus_deriv(x):\n",
    "    return 1/(1+((e)**-x))"
   ]
  },
  {
   "cell_type": "code",
   "execution_count": 16,
   "metadata": {},
   "outputs": [],
   "source": [
    "# SoftExponential:\n",
    "def softex(x,a=0.01):\n",
    "    if a < 0:\n",
    "        return -((np.log(1-a*(x+a)))/a)\n",
    "    elif a == 0:\n",
    "        return x\n",
    "    elif a > 0:\n",
    "        return (((e)**(a*x))/a)+a\n",
    "# SoftExponential derivative:\n",
    "def softex_deriv(x,a=0.01):\n",
    "    return 1/(1-a*(a+x)) if a < 0 else (e)**(a*x)"
   ]
  },
  {
   "cell_type": "code",
   "execution_count": 17,
   "metadata": {},
   "outputs": [],
   "source": [
    "# Sinusoid:\n",
    "def sinusoid(x):\n",
    "    return sin(x)\n",
    "  \n",
    "# Sinusoid derivative:\n",
    "def sinusoid_deriv(x):\n",
    "    return cos(x) "
   ]
  },
  {
   "cell_type": "code",
   "execution_count": 18,
   "metadata": {},
   "outputs": [],
   "source": [
    "# Gaussian: \n",
    "def gaussian(x):\n",
    "    return (e)**((-x)**2)\n",
    "   \n",
    "# Gaussian derivative:\n",
    "def gaussian_deriv(x):\n",
    "    return -2*x*(e)**((-x)**2) "
   ]
  },
  {
   "cell_type": "code",
   "execution_count": 19,
   "metadata": {},
   "outputs": [],
   "source": [
    "ACTIVATIONS= {'identity': identity, 'tanh': tanh, 'logistic': logistic,\n",
    "               'relu': relu, 'softplus': softplus, 'gaussian':gaussian,'leaky':leaky,'softex':softex}\n"
   ]
  },
  {
   "cell_type": "code",
   "execution_count": 20,
   "metadata": {},
   "outputs": [],
   "source": [
    "DERIVATIVES={'identity_deriv': identity_deriv, 'tanh_deriv': tanh_deriv, 'logistic_deriv': logistic_deriv,\n",
    "               'relu_deriv': relu_deriv, 'softplus_deriv': softplus_deriv, 'gaussian_deriv':gaussian_deriv,'leaky_deriv':leaky_deriv,'softex_deriv':softex_deriv}\n"
   ]
  },
  {
   "cell_type": "code",
   "execution_count": null,
   "metadata": {},
   "outputs": [],
   "source": []
  }
 ],
 "metadata": {
  "kernelspec": {
   "display_name": "Python 3",
   "language": "python",
   "name": "python3"
  },
  "language_info": {
   "codemirror_mode": {
    "name": "ipython",
    "version": 3
   },
   "file_extension": ".py",
   "mimetype": "text/x-python",
   "name": "python",
   "nbconvert_exporter": "python",
   "pygments_lexer": "ipython3",
   "version": "3.7.1"
  }
 },
 "nbformat": 4,
 "nbformat_minor": 2
}
